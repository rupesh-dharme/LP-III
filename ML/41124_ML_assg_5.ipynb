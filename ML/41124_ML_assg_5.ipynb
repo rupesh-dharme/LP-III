{
 "cells": [
  {
   "cell_type": "code",
   "execution_count": 1,
   "id": "c4c896b5",
   "metadata": {},
   "outputs": [],
   "source": [
    "import numpy as np \n",
    "import pandas as pd \n",
    "import matplotlib.pyplot as plt \n",
    "from sklearn.cluster import KMeans "
   ]
  },
  {
   "cell_type": "code",
   "execution_count": 2,
   "id": "660a9332",
   "metadata": {},
   "outputs": [],
   "source": [
    "X = [[0.1,0.6],[0.15,0.71],[0.08,0.9],[0.16,0.85],[0.2,0.3],[0.25,0.5],[0.24,0.1],[0.3,0.2]]"
   ]
  },
  {
   "cell_type": "code",
   "execution_count": 3,
   "id": "c4f1607f",
   "metadata": {},
   "outputs": [
    {
     "name": "stdout",
     "output_type": "stream",
     "text": [
      "Initial Centroids:\n",
      " [[0.1 0.6]\n",
      " [0.3 0.2]]\n"
     ]
    }
   ],
   "source": [
    "centers = np.array([[0.1,0.6],[0.3,0.2]]) \n",
    "print('Initial Centroids:\\n',centers) "
   ]
  },
  {
   "cell_type": "code",
   "execution_count": 4,
   "id": "8352da98",
   "metadata": {},
   "outputs": [
    {
     "data": {
      "text/plain": [
       "KMeans(init=array([[0.1, 0.6],\n",
       "       [0.3, 0.2]]), n_clusters=2, n_init=1)"
      ]
     },
     "execution_count": 4,
     "metadata": {},
     "output_type": "execute_result"
    }
   ],
   "source": [
    "model = KMeans(n_clusters=2,init=centers,n_init=1) \n",
    "model.fit(X)"
   ]
  },
  {
   "cell_type": "code",
   "execution_count": 5,
   "id": "ca1e80d0",
   "metadata": {},
   "outputs": [
    {
     "name": "stdout",
     "output_type": "stream",
     "text": [
      "Labels ::  [0 0 0 0 1 0 1 1]\n",
      "P6 Belongs to Cluster ::  0\n",
      "NO. of Population around Cluster 2 ::  3\n"
     ]
    }
   ],
   "source": [
    "print(\"Labels :: \",model.labels_) \n",
    "print(\"P6 Belongs to Cluster :: \",model.labels_[5]) \n",
    "print(\"NO. of Population around Cluster 2 :: \",np.count_nonzero(model.labels_==1)) "
   ]
  },
  {
   "cell_type": "code",
   "execution_count": 6,
   "id": "ba125e4b",
   "metadata": {},
   "outputs": [
    {
     "name": "stdout",
     "output_type": "stream",
     "text": [
      "New Centroids:\n",
      " [[0.148      0.712     ]\n",
      " [0.24666667 0.2       ]]\n"
     ]
    }
   ],
   "source": [
    "print('New Centroids:\\n',model.cluster_centers_)"
   ]
  },
  {
   "cell_type": "code",
   "execution_count": 7,
   "id": "952de0f8",
   "metadata": {},
   "outputs": [
    {
     "data": {
      "image/png": "[encoded data removed]",
      "text/plain": [
       "<Figure size 432x288 with 1 Axes>"
      ]
     },
     "metadata": {
      "needs_background": "light"
     },
     "output_type": "display_data"
    }
   ],
   "source": [
    "plt.scatter(centers[:, 0], centers[:, 1], c='red', s=100, alpha=1);\n",
    "plt.show()\n"
   ]
  },
  {
   "cell_type": "code",
   "execution_count": 8,
   "id": "95db3c51",
   "metadata": {},
   "outputs": [],
   "source": [
    "centers = np.array([[0.1,0.6],[0.3,0.2]]) "
   ]
  },
  {
   "cell_type": "code",
   "execution_count": 9,
   "id": "c5ebff80",
   "metadata": {},
   "outputs": [
    {
     "name": "stdout",
     "output_type": "stream",
     "text": [
      "Initial Centroids:\n",
      " [[0.1 0.6]\n",
      " [0.3 0.2]]\n"
     ]
    }
   ],
   "source": [
    "print('Initial Centroids:\\n',centers)"
   ]
  },
  {
   "cell_type": "code",
   "execution_count": 10,
   "id": "645b5d9f",
   "metadata": {},
   "outputs": [
    {
     "data": {
      "text/plain": [
       "KMeans(init=array([[0.1, 0.6],\n",
       "       [0.3, 0.2]]), n_clusters=2, n_init=1)"
      ]
     },
     "execution_count": 10,
     "metadata": {},
     "output_type": "execute_result"
    }
   ],
   "source": [
    "model = KMeans(n_clusters=2,init=centers,n_init=1) \n",
    "model.fit(X) "
   ]
  },
  {
   "cell_type": "code",
   "execution_count": 11,
   "id": "e0849fc7",
   "metadata": {},
   "outputs": [
    {
     "name": "stdout",
     "output_type": "stream",
     "text": [
      "Labels ::  [0 0 0 0 1 0 1 1]\n"
     ]
    }
   ],
   "source": [
    "print(\"Labels :: \",model.labels_) "
   ]
  },
  {
   "cell_type": "code",
   "execution_count": 12,
   "id": "1c98e39a",
   "metadata": {},
   "outputs": [
    {
     "name": "stdout",
     "output_type": "stream",
     "text": [
      "P6 Belongs to Cluster ::  0\n"
     ]
    }
   ],
   "source": [
    "print(\"P6 Belongs to Cluster :: \",model.labels_[5])"
   ]
  },
  {
   "cell_type": "code",
   "execution_count": 13,
   "id": "7106305d",
   "metadata": {},
   "outputs": [
    {
     "name": "stdout",
     "output_type": "stream",
     "text": [
      "NO. of Population around Cluster 2 :: 3\n"
     ]
    }
   ],
   "source": [
    "print(\"NO. of Population around Cluster 2 ::\", np.count_nonzero(model.labels_==1)) "
   ]
  },
  {
   "cell_type": "code",
   "execution_count": 14,
   "id": "e44a14cf",
   "metadata": {},
   "outputs": [
    {
     "name": "stdout",
     "output_type": "stream",
     "text": [
      "New Centroids:\n",
      " [[0.148      0.712     ]\n",
      " [0.24666667 0.2       ]]\n"
     ]
    },
    {
     "data": {
      "image/png": "[encoded data removed]",
      "text/plain": [
       "<Figure size 432x288 with 1 Axes>"
      ]
     },
     "metadata": {
      "needs_background": "light"
     },
     "output_type": "display_data"
    }
   ],
   "source": [
    "print('New Centroids:\\n',model.cluster_centers_)\n",
    "plt.scatter(centers[:, 0], centers[:, 1], c='red', s=100, alpha=1);\n",
    "plt.show()\n"
   ]
  },
  {
   "cell_type": "code",
   "execution_count": null,
   "id": "4ed399ae",
   "metadata": {},
   "outputs": [],
   "source": []
  },
  {
   "cell_type": "code",
   "execution_count": null,
   "id": "77de7e96",
   "metadata": {},
   "outputs": [],
   "source": []
  }
 ],
 "metadata": {
  "kernelspec": {
   "display_name": "Python 3.9.9 64-bit",
   "language": "python",
   "name": "python3"
  },
  "language_info": {
   "codemirror_mode": {
    "name": "ipython",
    "version": 3
   },
   "file_extension": ".py",
   "mimetype": "text/x-python",
   "name": "python",
   "nbconvert_exporter": "python",
   "pygments_lexer": "ipython3",
   "version": "3.9.9"
  },
  "vscode": {
   "interpreter": {
    "hash": "f6246b25e200e4c5124e3e61789ac81350562f0761bbcf92ad9e48654207659c"
   }
  }
 },
 "nbformat": 4,
 "nbformat_minor": 5
}
